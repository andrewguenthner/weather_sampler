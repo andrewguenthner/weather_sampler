{
 "cells": [
  {
   "cell_type": "markdown",
   "metadata": {},
   "source": [
    "# WeatherPy\n",
    "----\n",
    "### Background / Issues\n",
    "* Goal:  understand how the weather changes as one approaches the equator\n",
    "* Basic approach:  Use openweathermap API to sample weather in cities using the citipy dataset and examine the effects of latitude\n",
    "* Issues:  \"City weather\" is quite different from weather in general.  Cities are on land, tend to be near large bodies of water, and tend not to be at high elevation, in polar regions, on rugged terrain, in deserts, etc.  So, the more specific question that we will answer is \"how does the weather in cities change as one approaches the equator?\"\n",
    "* Please see the \"README\" deisgn doc for more detailed discussion and instructions for use.\n",
    "\n",
    "\n",
    "### Analysis\n",
    "* As expected, the weather becomes significantly warmer as one approaches the equator (0 Deg. Latitude). More interestingly, however, is the fact that the southern hemisphere tends to be warmer this time of year than the northern hemisphere. This may be due to the tilt of the earth.\n",
    "* There is no strong relationship between latitude and cloudiness. However, it is interesting to see that a strong band of cities sits at 0, 80, and 100% cloudiness.\n",
    "* There is no strong relationship between latitude and wind speed. However, in northern hemispheres there is a flurry of cities with over 20 mph of wind.\n",
    "\n",
    "---\n",
    "\n",
    "#### Note\n",
    "* Instructions have been included for each segment. You do not have to follow them exactly, but they are included to help you think through the steps."
   ]
  },
  {
   "cell_type": "code",
   "execution_count": 1,
   "metadata": {},
   "outputs": [],
   "source": [
    "# Dependencies and Setup\n",
    "import matplotlib.pyplot as plt\n",
    "import pandas as pd\n",
    "import numpy as np\n",
    "import requests\n",
    "from datetime import datetime\n",
    "import openweathermapy.core as owm\n",
    "import pprint as pp\n",
    "import inspect\n",
    "from haversine import haversine\n",
    "# Import API key\n",
    "from config import api_key\n",
    "\n",
    "# Incorporated haversine library to calculate distances\n",
    "# from haversine import haversine\n",
    "\n",
    "# Input File (CSV)\n",
    "input_data_file = 'citipy/worldcities.csv'\n",
    "\n",
    "# Output File (CSV)\n",
    "output_data_file = 'output_data/cities.csv'\n",
    "\n",
    "# Output log File (TXT)\n",
    "output_log = 'output_data/log.txt'"
   ]
  },
  {
   "cell_type": "markdown",
   "metadata": {},
   "source": [
    "### Code Parameters "
   ]
  },
  {
   "cell_type": "code",
   "execution_count": 2,
   "metadata": {
    "scrolled": false
   },
   "outputs": [],
   "source": [
    "# Constants\n",
    "# lat_radius will control the size of the search radius (in distance equal to deg lat, \n",
    "# which means 1.0 = 111 km, 2.0 = 222 km, etc.  Smaller = longer time to build city list\n",
    "# but larger = less perfect sampling of population.  Note that city locations are not\n",
    "# meaningful at less than 10 km resolution, that is, lat_radius < 0.1.  \n",
    "lat_radius = 1.0\n",
    "# Batch and sample size control how many cities per query list we build.  The notebook\n",
    "# will build a list of cities of batch_size, then query one at a time until it reaches\n",
    "# data_size successful weather reports.  It if fails to reach data_size with one batch,\n",
    "# it will continue to query, until max_batches.  Batch_size should not need to exceed\n",
    "# three times data_size for success in one batch, which is recommended.  A large value of\n",
    "# max_batches could lead to account deactivation on OpenWeatherMap.\n",
    "batch_size = 12\n",
    "data_size = 3\n",
    "max_batches = 2"
   ]
  },
  {
   "cell_type": "markdown",
   "metadata": {},
   "source": [
    "### Prepare City Data\n",
    "By importing directly from the csv, we lose the kd-tree structure from citipy, but we gain the ability to\n",
    "do the appropriate math."
   ]
  },
  {
   "cell_type": "code",
   "execution_count": 3,
   "metadata": {},
   "outputs": [
    {
     "data": {
      "text/html": [
       "<div>\n",
       "<style scoped>\n",
       "    .dataframe tbody tr th:only-of-type {\n",
       "        vertical-align: middle;\n",
       "    }\n",
       "\n",
       "    .dataframe tbody tr th {\n",
       "        vertical-align: top;\n",
       "    }\n",
       "\n",
       "    .dataframe thead th {\n",
       "        text-align: right;\n",
       "    }\n",
       "</style>\n",
       "<table border=\"1\" class=\"dataframe\">\n",
       "  <thead>\n",
       "    <tr style=\"text-align: right;\">\n",
       "      <th></th>\n",
       "      <th>Country</th>\n",
       "      <th>City</th>\n",
       "      <th>Latitude</th>\n",
       "      <th>Longitude</th>\n",
       "    </tr>\n",
       "  </thead>\n",
       "  <tbody>\n",
       "    <tr>\n",
       "      <th>0</th>\n",
       "      <td>ar</td>\n",
       "      <td>ushuaia</td>\n",
       "      <td>-54.800000</td>\n",
       "      <td>-68.300000</td>\n",
       "    </tr>\n",
       "    <tr>\n",
       "      <th>1</th>\n",
       "      <td>cl</td>\n",
       "      <td>punta arenas</td>\n",
       "      <td>-53.150000</td>\n",
       "      <td>-70.916667</td>\n",
       "    </tr>\n",
       "    <tr>\n",
       "      <th>2</th>\n",
       "      <td>ar</td>\n",
       "      <td>rio gallegos</td>\n",
       "      <td>-51.622613</td>\n",
       "      <td>-69.218127</td>\n",
       "    </tr>\n",
       "    <tr>\n",
       "      <th>3</th>\n",
       "      <td>nz</td>\n",
       "      <td>bluff</td>\n",
       "      <td>-46.600000</td>\n",
       "      <td>168.333333</td>\n",
       "    </tr>\n",
       "    <tr>\n",
       "      <th>4</th>\n",
       "      <td>nz</td>\n",
       "      <td>invercargill</td>\n",
       "      <td>-46.400000</td>\n",
       "      <td>168.350000</td>\n",
       "    </tr>\n",
       "  </tbody>\n",
       "</table>\n",
       "</div>"
      ],
      "text/plain": [
       "  Country          City   Latitude   Longitude\n",
       "0      ar       ushuaia -54.800000  -68.300000\n",
       "1      cl  punta arenas -53.150000  -70.916667\n",
       "2      ar  rio gallegos -51.622613  -69.218127\n",
       "3      nz         bluff -46.600000  168.333333\n",
       "4      nz  invercargill -46.400000  168.350000"
      ]
     },
     "execution_count": 3,
     "metadata": {},
     "output_type": "execute_result"
    }
   ],
   "source": [
    "# Read the DataFrame and sort it by latitude then longitude\n",
    "city_df = pd.read_csv(input_data_file).sort_values(by=['Latitude','Longitude']).reset_index(drop=True)\n",
    "city_df.head()\n",
    "# Store max and min of latitude for later.  "
   ]
  },
  {
   "cell_type": "markdown",
   "metadata": {},
   "source": [
    "## Generate Cities List"
   ]
  },
  {
   "cell_type": "code",
   "execution_count": 4,
   "metadata": {},
   "outputs": [],
   "source": [
    "def getcities(batch=batch_size, radius = lat_radius):\n",
    "    '''Returns a list of city names with length equal to batch.  In practice, this means transforming\n",
    "    the latitude distribution by an inverse cosine to give appropriately gerater probability to points\n",
    "    along the equator and vanishingly small probability of points approaching the poles. Once a point\n",
    "    is selected, a search for cities using the global city_df is made, and the nearest city having\n",
    "    a distance less than 'radius' (in latitude degrees, 1 deg = 111.13 km) is selected.'''\n",
    "# List for holding city names and search count.  For safety, we will terminate at a fixed number of searches.\n",
    "    cities = []\n",
    "    searches = 0\n",
    "    max_searches = 100\n",
    "# Loop through until we get the required number of successes\n",
    "    while len(cities) <  batch and searches <= max_searches:\n",
    "        city_name = ''\n",
    "        max_dist = 111.13 * radius  #Converts latitude degrees to km, based on average radius of Earth\n",
    "        # Choose a random point on Earth's surface\n",
    "        lat = 180.0 / 3.1416 *  np.arccos(2 * np.random.rand() -1) - 90\n",
    "        lng = 360.0 * np.random.rand() - 180.0\n",
    "        # The search is a two-part filter.  The first is a direct filter of any place with the wrong lats \n",
    "        # We do not filter on lngs because the modular arithmetic and nonlinearity make it quite complex.  \n",
    "        # Here we use df.iat for fast look-up, with only numbers for indices (city name = 1, lat = 2, lng = 3)\n",
    "        for ix in range(len(city_df)):\n",
    "            if (abs(city_df.iat[ix,2] - lat) < radius):\n",
    "                dist = haversine((lat, lng),(city_df.iat[ix,2],city_df.iat[ix,3]))\n",
    "            # The second part of the search is a simple minimum finder initialized to the maximum permitted value.\n",
    "                if dist < max_dist and city_df.iat[ix,1] not in cities:\n",
    "                    city_name = city_df.iat[ix,1]\n",
    "                    max_dist = dist\n",
    "        # Append the nearest city if we found one\n",
    "        if city_name:\n",
    "            cities.append(city_name)\n",
    "        searches += 1\n",
    "        if searches > max_searches:\n",
    "            print('Not finding cities efficiently.  Please increase lat_radius')\n",
    "    print(f'{len(cities)} found.')\n",
    "    return cities"
   ]
  },
  {
   "cell_type": "markdown",
   "metadata": {},
   "source": [
    "### Perform API Calls\n",
    "* Perform a weather check on each city using a series of successive API calls.\n",
    "* Include a print log of each city as it'sbeing processed (with the city number and city name).\n"
   ]
  },
  {
   "cell_type": "code",
   "execution_count": 29,
   "metadata": {
    "scrolled": true
   },
   "outputs": [
    {
     "name": "stdout",
     "output_type": "stream",
     "text": [
      "12 found.\n",
      "Requesting weather for nagpur...\n",
      "Succes. City: Nagpur found. Raw data in file\n",
      "Requesting weather for miandrivazo...\n",
      "Succes. City: Miandrivazo found. Raw data in file\n",
      "Requesting weather for shima...\n",
      "Succes. City: Shima found. Raw data in file\n"
     ]
    }
   ],
   "source": [
    "# Build the city list\n",
    "citylist = getcities()\n",
    "# Create settings for API call\n",
    "settings = {'units':'imperial','appid':api_key}\n",
    "# Set up objects to hold results and count of attempts and successes\n",
    "attempt_num = 0\n",
    "citycount = 0\n",
    "cityfound = []\n",
    "countryfound = []\n",
    "tempfound = []\n",
    "humidfound = []\n",
    "windfound = []\n",
    "cloudfound = []\n",
    "latfound = []\n",
    "lngfound = []\n",
    "whenfound = []\n",
    "\n",
    "# Get the data \n",
    "with open(output_log,'w') as f:\n",
    "    while citycount < data_size and attempt_num < len(citylist):\n",
    "        attempt_num += 1\n",
    "        city = citylist[attempt_num]\n",
    "        # Reset temp holders\n",
    "        tmpcity, tmpcountry, tmptemp, tmphumid, tmpwind, tmpclouds, tmplat, tmplng = '','','','','','','',''\n",
    "        # Log request\n",
    "        print('Requesting weather for ' + city + '...')\n",
    "        reqtime = datetime.now()\n",
    "        f.write('Request city: ' + city + ' at ' + reqtime.strftime('%m/%d/%Y, %H:%M:%S') + '\\n')\n",
    "        # Make request from openweathermap\n",
    "        try:\n",
    "            weather = owm.get_current(city, **settings)\n",
    "            # Store results in temporary objects for checking, enforce types for later\n",
    "            tmpcity = weather['name']\n",
    "            tmpcountry = weather['sys']['country']\n",
    "            tmptemp = float(weather['main']['temp'])\n",
    "            tmphumid = float(weather['main']['humidity'])\n",
    "            tmpwind = float(weather['wind']['speed'])\n",
    "            tmpclouds = float(weather['clouds']['all'])\n",
    "            tmplat = float(weather['coord']['lat'])\n",
    "            tmplng = float(weather['coord']['lon'])\n",
    "            # Log data \n",
    "            reqtime = datetime.now()\n",
    "            f.write('Response at ' + reqtime.strftime('%m/%d/%Y, %H:%M:%S') + '\\n')\n",
    "            f.write('City: ' + tmpcity + ' Country: ' + tmpcountry)\n",
    "            f.write(' Temp: ' + str(tmptemp) + ' Humidity: ' + str(tmphumid))       \n",
    "            f.write(' Wind: ' + str(tmpwind) + ' Cloud cover: ' + str(tmpclouds))    \n",
    "            f.write(' Lat: ' + str(tmplat) + ' Lng: ' + str(tmplng) + '\\n')\n",
    "        except urllib.HTTPError:\n",
    "            print('HTTP Error')\n",
    "            f.write('HTTP Request Failed\\n')\n",
    "        except KeyError:\n",
    "            print('Weather data not found.')\n",
    "            f.write('Weather data not found.\\n')\n",
    "        if all ((tmpcity != '', tmpcountry !='', tmptemp > -99, tmphumid >=0,\\\n",
    "                    tmpwind >=0, tmpclouds >=0, tmplat >=-90, tmplng >=-180)):\n",
    "            print('Succes. City: '+ tmpcity + ' found. Raw data in file')\n",
    "            f.write('Success.  Appending data.\\n')\n",
    "            # In this case, increment success counter and append data to lists\n",
    "            citycount += 1\n",
    "            cityfound.append(tmpcity)\n",
    "            countryfound.append(tmpcountry)\n",
    "            tempfound.append(tmptemp)\n",
    "            humidfound.append(tmphumid)\n",
    "            windfound.append(tmpwind)\n",
    "            cloudfound.append(tmpclouds)\n",
    "            latfound.append(tmplat)\n",
    "            lngfound.append(tmplng)\n",
    "            whenfound.append(reqtime)\n",
    "        else:\n",
    "            print('There was a problem with ' + tmpcity + '.  Raw data in file')\n",
    "            f.write('Data does not meet criteria and will not be used.\\n')"
   ]
  },
  {
   "cell_type": "markdown",
   "metadata": {},
   "source": [
    "### Convert Raw Data to DataFrame\n",
    "* Export the city data into a .csv.\n",
    "* Display the DataFrame"
   ]
  },
  {
   "cell_type": "code",
   "execution_count": 42,
   "metadata": {},
   "outputs": [
    {
     "data": {
      "text/html": [
       "<div>\n",
       "<style scoped>\n",
       "    .dataframe tbody tr th:only-of-type {\n",
       "        vertical-align: middle;\n",
       "    }\n",
       "\n",
       "    .dataframe tbody tr th {\n",
       "        vertical-align: top;\n",
       "    }\n",
       "\n",
       "    .dataframe thead th {\n",
       "        text-align: right;\n",
       "    }\n",
       "</style>\n",
       "<table border=\"1\" class=\"dataframe\">\n",
       "  <thead>\n",
       "    <tr style=\"text-align: right;\">\n",
       "      <th></th>\n",
       "      <th>City</th>\n",
       "      <th>Country</th>\n",
       "      <th>Latitude</th>\n",
       "      <th>Longitude</th>\n",
       "      <th>Time</th>\n",
       "      <th>Temperature (deg F)</th>\n",
       "      <th>Humidity (%)</th>\n",
       "      <th>Wind Speed (mph)</th>\n",
       "      <th>Cloud Cover (%)</th>\n",
       "    </tr>\n",
       "  </thead>\n",
       "  <tbody>\n",
       "    <tr>\n",
       "      <th>0</th>\n",
       "      <td>Nagpur</td>\n",
       "      <td>IN</td>\n",
       "      <td>21.15</td>\n",
       "      <td>79.08</td>\n",
       "      <td>2019-03-28 14:15:00.984889</td>\n",
       "      <td>78.80</td>\n",
       "      <td>31.0</td>\n",
       "      <td>3.36</td>\n",
       "      <td>0.0</td>\n",
       "    </tr>\n",
       "    <tr>\n",
       "      <th>1</th>\n",
       "      <td>Miandrivazo</td>\n",
       "      <td>MG</td>\n",
       "      <td>-19.53</td>\n",
       "      <td>45.46</td>\n",
       "      <td>2019-03-28 14:15:01.560047</td>\n",
       "      <td>71.36</td>\n",
       "      <td>87.0</td>\n",
       "      <td>3.38</td>\n",
       "      <td>76.0</td>\n",
       "    </tr>\n",
       "    <tr>\n",
       "      <th>2</th>\n",
       "      <td>Shima</td>\n",
       "      <td>JP</td>\n",
       "      <td>34.34</td>\n",
       "      <td>136.82</td>\n",
       "      <td>2019-03-28 14:15:02.593915</td>\n",
       "      <td>46.40</td>\n",
       "      <td>49.0</td>\n",
       "      <td>13.87</td>\n",
       "      <td>75.0</td>\n",
       "    </tr>\n",
       "  </tbody>\n",
       "</table>\n",
       "</div>"
      ],
      "text/plain": [
       "          City Country  Latitude  Longitude                       Time  \\\n",
       "0       Nagpur      IN     21.15      79.08 2019-03-28 14:15:00.984889   \n",
       "1  Miandrivazo      MG    -19.53      45.46 2019-03-28 14:15:01.560047   \n",
       "2        Shima      JP     34.34     136.82 2019-03-28 14:15:02.593915   \n",
       "\n",
       "   Temperature (deg F)  Humidity (%)  Wind Speed (mph)  Cloud Cover (%)  \n",
       "0                78.80          31.0              3.36              0.0  \n",
       "1                71.36          87.0              3.38             76.0  \n",
       "2                46.40          49.0             13.87             75.0  "
      ]
     },
     "execution_count": 42,
     "metadata": {},
     "output_type": "execute_result"
    }
   ],
   "source": [
    "# Generate DataFrame with the results\n",
    "weather_df = pd.DataFrame({'City':cityfound,'Country':countryfound,'Latitude':latfound,\n",
    "                          'Longitude':lngfound,'Time':whenfound,'Temperature (deg F)':tempfound,\n",
    "                          'Humidity (%)':humidfound,'Wind Speed (mph)':windfound,'Cloud Cover (%)':cloudfound})\n",
    "weather_df.to_csv(output_data_file)\n",
    "weather_df"
   ]
  },
  {
   "cell_type": "markdown",
   "metadata": {},
   "source": [
    "### Plotting the Data\n",
    "* Use proper labeling of the plots using plot titles (including date of analysis) and axes labels.\n",
    "* Save the plotted figures as .pngs."
   ]
  },
  {
   "cell_type": "markdown",
   "metadata": {},
   "source": [
    "#### Latitude vs. Temperature Plot"
   ]
  },
  {
   "cell_type": "code",
   "execution_count": 43,
   "metadata": {},
   "outputs": [
    {
     "data": {
      "image/png": "[encoded data removed]",
      "text/plain": [
       "<Figure size 432x288 with 1 Axes>"
      ]
     },
     "metadata": {
      "needs_background": "light"
     },
     "output_type": "display_data"
    }
   ],
   "source": [
    "weather_df.plot(kind='scatter',x='Latitude',y='Temperature (deg F)',\n",
    "                title='City Latitude vs. Temperature (%s)' % weather_df.loc[0,'Time'].strftime('%m/%d/%Y, %H:%M'),\n",
    "                grid=True,xlim=(-90,90),color='darkblue')\n",
    "plt.savefig('output_data/lat_v_temp.png')"
   ]
  },
  {
   "cell_type": "markdown",
   "metadata": {},
   "source": [
    "#### Latitude vs. Humidity Plot"
   ]
  },
  {
   "cell_type": "code",
   "execution_count": 44,
   "metadata": {},
   "outputs": [
    {
     "data": {
      "image/png": "[encoded data removed]",
      "text/plain": [
       "<Figure size 432x288 with 1 Axes>"
      ]
     },
     "metadata": {
      "needs_background": "light"
     },
     "output_type": "display_data"
    }
   ],
   "source": [
    "weather_df.plot(kind='scatter',x='Latitude',y='Humidity (%)',\n",
    "                title='City Latitude vs. Humidity (%s)' % weather_df.loc[0,'Time'].strftime('%m/%d/%Y, %H:%M'),\n",
    "                grid=True,xlim=(-90,90),color='darkblue')\n",
    "plt.savefig('output_data/lat_v_humid.png')"
   ]
  },
  {
   "cell_type": "markdown",
   "metadata": {},
   "source": [
    "#### Latitude vs. Cloudiness Plot"
   ]
  },
  {
   "cell_type": "code",
   "execution_count": 45,
   "metadata": {},
   "outputs": [
    {
     "data": {
      "image/png": "[encoded data removed]",
      "text/plain": [
       "<Figure size 432x288 with 1 Axes>"
      ]
     },
     "metadata": {
      "needs_background": "light"
     },
     "output_type": "display_data"
    }
   ],
   "source": [
    "weather_df.plot(kind='scatter',x='Latitude',y='Cloud Cover (%)',\n",
    "                title='City Latitude vs. Cloudiness (%s)' % weather_df.loc[0,'Time'].strftime('%m/%d/%Y, %H:%M'),\n",
    "                grid=True,xlim=(-90,90),color='darkblue')\n",
    "plt.savefig('output_data/lat_v_cloud.png')"
   ]
  },
  {
   "cell_type": "markdown",
   "metadata": {},
   "source": [
    "#### Latitude vs. Wind Speed Plot"
   ]
  },
  {
   "cell_type": "code",
   "execution_count": 46,
   "metadata": {},
   "outputs": [
    {
     "data": {
      "image/png": "[encoded data removed]",
      "text/plain": [
       "<Figure size 432x288 with 1 Axes>"
      ]
     },
     "metadata": {
      "needs_background": "light"
     },
     "output_type": "display_data"
    }
   ],
   "source": [
    "weather_df.plot(kind='scatter',x='Latitude',y='Wind Speed (mph)',\n",
    "                title='City Latitude vs. Wind Speed (%s)' % weather_df.loc[0,'Time'].strftime('%m/%d/%Y, %H:%M'),\n",
    "                grid=True,xlim=(-90,90),color='darkblue')\n",
    "plt.savefig('output_data/lat_v_wind.png')"
   ]
  },
  {
   "cell_type": "code",
   "execution_count": 3,
   "metadata": {},
   "outputs": [
    {
     "data": {
      "text/plain": [
       "1544.7596947396298"
      ]
     },
     "execution_count": 3,
     "metadata": {},
     "output_type": "execute_result"
    }
   ],
   "source": []
  },
  {
   "cell_type": "code",
   "execution_count": null,
   "metadata": {},
   "outputs": [],
   "source": []
  }
 ],
 "metadata": {
  "anaconda-cloud": {},
  "kernel_info": {
   "name": "python3"
  },
  "kernelspec": {
   "display_name": "Python 3",
   "language": "python",
   "name": "python3"
  },
  "language_info": {
   "codemirror_mode": {
    "name": "ipython",
    "version": 3
   },
   "file_extension": ".py",
   "mimetype": "text/x-python",
   "name": "python",
   "nbconvert_exporter": "python",
   "pygments_lexer": "ipython3",
   "version": "3.6.8"
  },
  "nteract": {
   "version": "0.12.3"
  }
 },
 "nbformat": 4,
 "nbformat_minor": 2
}
